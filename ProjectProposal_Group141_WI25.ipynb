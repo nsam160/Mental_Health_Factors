{
 "cells": [
  {
   "cell_type": "markdown",
   "metadata": {},
   "source": [
    "# COGS 108 - Project Proposal"
   ]
  },
  {
   "cell_type": "markdown",
   "metadata": {},
   "source": [
    "# Names\n",
    "\n",
    "- Derek Chen\n",
    "- Andrew Nguyen\n",
    "- Nghi Sam\n",
    "- Hartej Singh\n",
    "- Angela Yuan"
   ]
  },
  {
   "cell_type": "markdown",
   "metadata": {},
   "source": [
    "# Research Question"
   ]
  },
  {
   "cell_type": "markdown",
   "metadata": {},
   "source": [
    "-  Include a specific, clear data science question.\n",
    "-  Make sure what you're measuring (variables) to answer the question is clear\n",
    "\n",
    "This question should be specific, answerable with data, and clear. A general question with specific subquestions is permitted. (1-2 sentences). When we read this we should know clearly what your project will be about\n",
    "\n",
    "***\n",
    "\n",
    "Out of the following factors relating to students of higher education, which factor most negatively affect a student's depression level the most:\n",
    "\n",
    "- Amount of Sleep\n",
    "- Amount of Work\n",
    "- Amount of Study\n",
    "- Number of Close Friends/Family\n",
    "- Financial Pressure\n",
    "- Family History of Depression\n",
    "- Physical Activity Level\n",
    "- Nutrition Score\n",
    "\n",
    "Additionally, are students of certain majors, gender, university, or age groups more prone to be affected by depression?\n",
    "\n",
    "***"
   ]
  },
  {
   "cell_type": "markdown",
   "metadata": {},
   "source": [
    "## Background and Prior Work"
   ]
  },
  {
   "cell_type": "markdown",
   "metadata": {},
   "source": [
    "\n",
    "- Include a general introduction to your topic\n",
    "- Include explanation of what work has been done previously\n",
    "- Include citations or links to previous work\n",
    "\n",
    "This section will present the background and context of your topic and question in a few paragraphs. Include a general introduction to your topic and then describe what information you currently know about the topic after doing your initial research. Include references to other projects who have asked similar questions or approached similar problems. Explain what others have learned in their projects.\n",
    "\n",
    "Find some relevant prior work, and reference those sources, summarizing what each did and what they learned. Even if you think you have a totally novel question, find the most similar prior work that you can and discuss how it relates to your project.\n",
    "\n",
    "References can be research publications, but they need not be. Blogs, GitHub repositories, company websites, etc., are all viable references if they are relevant to your project. It must be clear which information comes from which references. (2-3 paragraphs, including at least 2 references)\n",
    "\n",
    " **Use inline citation through HTML footnotes to specify which references support which statements** \n",
    "\n",
    "For example: After government genocide in the 20th century, real birds were replaced with surveillance drones designed to look just like birds.<a name=\"cite_ref-1\"></a>[<sup>1</sup>](#cite_note-1) Use a minimum of 2 or 3 citations, but we prefer more.<a name=\"cite_ref-2\"></a>[<sup>2</sup>](#cite_note-2) You need enough to fully explain and back up important facts. \n",
    "\n",
    "Note that if you click a footnote number in the paragraph above it will transport you to the proper entry in the footnotes list below.  And if you click the ^ in the footnote entry, it will return you to the place in the main text where the footnote is made.\n",
    "\n",
    "To understand the HTML here, `<a name=\"#...\"> </a>` is a tag that allows you produce a named reference for a given location.  Markdown has the construciton `[text with hyperlink](#named reference)` that will produce a clickable link that transports you the named reference.\n",
    "\n",
    "1. <a name=\"cite_note-1\"></a> [^](#cite_ref-1) Lorenz, T. (9 Dec 2021) Birds Aren’t Real, or Are They? Inside a Gen Z Conspiracy Theory. *The New York Times*. https://www.nytimes.com/2021/12/09/technology/birds-arent-real-gen-z-misinformation.html \n",
    "2. <a name=\"cite_note-2\"></a> [^](#cite_ref-2) Also refs should be important to the background, not some randomly chosen vaguely related stuff. Include a web link if possible in refs as above.\n",
    "\n",
    "***\n",
    "\n",
    "The prevalence of depression among college students has become a significant global concern, magnified by the COVID-19 pandemic. College students, who are navigating a transitional period characterized by heightened academic pressures, social changes, and increased independence, are particularly vulnerable to mental health challenges. Research indicates that depression among college students is not only widespread but also multifaceted, with influencing factors ranging from socioeconomic background to lifestyle and academic stressors. For instance, a study of 1,455 American college students revealed that 53% reported experiencing depression since starting college, while 9% indicated they had contemplated suicide during the same period (Furr et al., 2021). <a name=\"ref-2\"></a>[<sup>2</sup>](#cite-2) Furthermore, during the pandemic, over a quarter of Swiss university students exhibited depressive symptoms, a rate significantly higher than that of the general population and their pre-pandemic levels (Volken et al., 2021). <a name=\"ref-3\"></a>[<sup>3</sup>](#cite-3)\n",
    "\n",
    "Past studies have approached this problem from various angles, identifying key predictors and interventions (Liu et al., 2022). <a name=\"ref-1\"></a>[<sup>1</sup>](#cite-1) conducted a literature review examining the non-pathological factors contributing to depression among college students, categorizing them into biological, psychological, academic, and lifestyle influences. They emphasized the role of socioeconomic status, family support, and healthy living habits in mitigating depression. Their work also highlighted the potential of big data and machine learning for predicting depression, noting advancements in analyzing behavioral data from fitness trackers, smartphones, and social networks. Moreover, studies have explored specific cohorts within the student population, such as art students and those in Institutes of Technology (IT), who report higher levels of depression due to unique stressors and socioeconomic factors (McLafferty, Margaret et al, 2022). <a name=\"ref-4\"></a>[<sup>4</sup>](#cite-4) These findings suggest the importance of tailored mental health strategies addressing diverse needs within college communities.\n",
    "\n",
    "References\n",
    "\n",
    "1. <a name=\"cite-1\"></a> [^](#ref-1) Liu, Xin-Qiao et al. “Influencing factors, prediction and prevention of depression in college students: A literature review.” World journal of psychiatry vol. 12,7 860-873. 19 Jul. 2022, doi:10.5498/wjp.v12.i7.860\n",
    "2. <a name=\"cite-2\"></a> [^](#ref-2) Furr, S. R., Westefeld, J. S., McConnell, G. N., & Jenkins, J. M. (2001). Suicide and depression among college students: A decade later. *Professional Psychology: Research and Practice, 32*(1), 97–100. [https://doi.org/10.1037/0735-7028.32.1.97](https://psycnet.apa.org/doi/10.1037/0735-7028.32.1.97)\n",
    "3. <a name=\"cite-3\"></a> [^](#ref-3) Volken T, Zysset A, Amendola S, Klein Swormink A, Huber M, von Wyl A, Dratva J. Depressive Symptoms in Swiss University Students during the COVID-19 Pandemic and Their Correlates. *International Journal of Environmental Research and Public Health*. 2021; 18(4):1458. https://doi.org/10.3390/ijerph18041458\n",
    "4. <a name=\"cite-4\"></a> [^](#ref-4) McLafferty, Margaret et al. “Variations in psychological disorders, suicidality, and help-seeking behaviour among college students from different academic disciplines.” PloS one vol. 17,12 e0279618. 30 Dec. 2022, doi:10.1371/journal.pone.0279618\n",
    "\n",
    "***"
   ]
  },
  {
   "cell_type": "markdown",
   "metadata": {},
   "source": [
    "# Hypothesis\n"
   ]
  },
  {
   "cell_type": "markdown",
   "metadata": {},
   "source": [
    "\n",
    "- Put your hypothesis here, this is different than your question. This what you think the answer will be \n",
    "- Ensure that this hypothesis is clear to readers\n",
    "- Explain why you think this will be the outcome (what was your thinking?)\n",
    "\n",
    "If you question is \"What is the association between X and Y\" then a hypothesis might be \"We predict a strong correlation between X and Y\" or you might predict no correlation or any other possible relationship. Briefly explain your thinking. (2-3 sentences)\n",
    "\n",
    "***\n",
    "\n",
    "We believe that the top factor that negatively influences a college student’s depression level is the stress generated from studying. While other factors contribute to depression levels, based on personal experience, it is the stress from studying that influences one the most, and leads to other types of stress developing. As such, while we expect other factors to also contribute to stress, we expect academic stress to contribute the largest. \n",
    "\n",
    "***"
   ]
  },
  {
   "cell_type": "markdown",
   "metadata": {},
   "source": [
    "# Data"
   ]
  },
  {
   "cell_type": "markdown",
   "metadata": {},
   "source": [
    "1. Explain what the **ideal** dataset you would want to answer this question. (This should include: What variables? How many observations? Who/what/how would these data be collected? How would these data be stored/organized?)\n",
    "1. Search for potential **real** datasets that could provide you with something useful for this project.  You do not have to find every piece of data you will use, but you do need to have demonstrated some idea that (a) this data is gettable and (b) that this data may be different from what your ideal is.\n",
    "\n",
    "***\n",
    "\n",
    "Since our project revolves around analyzing several different factors for various groups of higher education student and selecting one that most may affect their happiness or stress levels, our ideal dataset should contain various input features of factors, like student's college major, university, gender, age, year in college, average hours of sleep per week, average hours spent studying, hours spent working, financial pressure (Y/N receiving aid), history of depression (Y/N family history of depression), number of close friends and relative, physical activity level, and nutrition score, which gauge a student's day to day life. . We hoped to compare these input features and make an association to the variable we are trying to predict, the student's depression level, which will also be collected from the students. Ideally, the dataset should be large enough, with approximately 10,000 or more subjects from around the world, that are considered 'enrolled' into a higher education facility at the time the survey took place. In an ideal situation, we would like to have Finally, in order to make the most informed and relevant analysis, it would be best if we could obtain data from the past 5 years since COVID 19 to assess the  state of happiness in college students in a post pandemic world. \n",
    "\n",
    "***"
   ]
  },
  {
   "cell_type": "markdown",
   "metadata": {},
   "source": [
    "# Ethics & Privacy"
   ]
  },
  {
   "cell_type": "markdown",
   "metadata": {},
   "source": [
    "- Thoughtful discussion of ethical concerns included\n",
    "- Ethical concerns consider the whole data science process (question asked, data collected, data being used, the bias in data, analysis, post-analysis, etc.)\n",
    "- How your group handled bias/ethical concerns clearly described\n",
    "\n",
    "Acknowledge and address any ethics & privacy related issues of your question(s), proposed dataset(s), and/or analyses. Use the information provided in lecture to guide your group discussion and thinking. If you need further guidance, check out [Deon's Ethics Checklist](http://deon.drivendata.org/#data-science-ethics-checklist). In particular:\n",
    "\n",
    "- Are there any biases/privacy/terms of use issues with the data you propsed?\n",
    "- Are there potential biases in your dataset(s), in terms of who it composes, and how it was collected, that may be problematic in terms of it allowing for equitable analysis? (For example, does your data exclude particular populations, or is it likely to reflect particular human biases in a way that could be a problem?)\n",
    "- How will you set out to detect these specific biases before, during, and after/when communicating your analysis?\n",
    "- Are there any other issues related to your topic area, data, and/or analyses that are potentially problematic in terms of data privacy and equitable impact?\n",
    "- How will you handle issues you identified?\n",
    "\n",
    "***\n",
    "\n",
    "Privacy and ethics are important in researching students’ mental states especially since we are examining students' private lives, such as their sleep, study hours, and diet, to answer the question. Additionally, since our role in this project is researchers, not therapists, having unprofessional discussions with the participants about their mental states may bring about negative reactions, like PTSD. In these cases, we hoped to find existing datasets done by professionals. Otherwise, if we were to survey from scratch, we would like to ask specific questions that are neither too personal nor too triggering, with considerations arising from concerns. In terms of datasets, it is possible for there to be human biases, especially since we are asking participants to self-diagnose or give a score to their happiness or depression. To resolve this in an existing dataset, we can be extra careful in our analysis and look at borderline results more carefully. However, if we were to collect data from scratch, we could give a comprehensive answer choice for each ranking to prevent human biases, giving examples of what each score means so that participants don't randomly guess their score.\n",
    "\n",
    "Furthermore, bias may appear in our data if it is taken from only one school or students of a specific background, not representating of all higher education students. Using a diverse dataset will give us the most effective and accurate data. To avoid these issues, our group will do our best to find a dataset that is not directly collected from one group and has similar commonalities such as school, race, religion, or gender. If we are unable to find a dataset with a variety of students, we will generalize whatever we find in our analysis to that specific population from which our dataset was obtained.\n",
    "\n",
    "Since privacy, bias, and ethics are very important in our research, we will do our best to detect and resolve them throughout the project. We understand that it is important to communicate to the participants how their information will be used, protected, and stored; therefore first and foremost, we will get informed consent from our participants during the data collection period and allow them to opt-out whenever they want. During data collection, we will also try to watch out for bias by following our guide to avoiding human bias in the dataset above. While doing our analysis and using the participants's data, we will take utmost care of the data security and privacy of our participants. To ensure that the participants can trust us to keep their data and not opt out, we will remove identifying information about the subjects that are not needed, like their names, and store all the data safely. Furthermore, in our analysis, we will avoid creating multiple models to ensure not one algorithm is prone to bias.\n",
    "\n",
    "Finally, in our conclusion/communication stage, we will consider bias and ethics by showing proof from our analysis. If our datasets are not representative of our original population, we will only generalize our analysis to the scope of the people who were represented in the dataset. It is also important to consider the difference between correlation and causation, which will allow us to avoid the cognitive bias mistake of trying to turn our correlation into causation.\n",
    "\n",
    "***"
   ]
  },
  {
   "cell_type": "markdown",
   "metadata": {},
   "source": [
    "# Team Expectations "
   ]
  },
  {
   "cell_type": "markdown",
   "metadata": {},
   "source": [
    "\n",
    "Read over the [COGS108 Team Policies](https://github.com/COGS108/Projects/blob/master/COGS108_TeamPolicies.md) individually. Then, include your group’s expectations of one another for successful completion of your COGS108 project below. Discuss and agree on what all of your expectations are. Discuss how your team will communicate throughout the quarter and consider how you will communicate respectfully should conflicts arise. By including each member’s name above and by adding their name to the submission, you are indicating that you have read the COGS108 Team Policies, accept your team’s expectations below, and have every intention to fulfill them. These expectations are for your team’s use and benefit — they won’t be graded for their details.\n",
    "\n",
    "***\n",
    "\n",
    "Our team will aim to communicate twice a week whenever possible, with meetings scheduled on Mondays around 4 PM. These meetings will take place both virtually and in person, with additional communication occurring via text as needed. In all interactions, team members are expected to maintain a tone that is both polite and honest. When making decisions, the team will operate on a majority-based approach to ensure fairness and efficiency.\n",
    "\n",
    "***"
   ]
  },
  {
   "cell_type": "markdown",
   "metadata": {},
   "source": [
    "# Project Timeline Proposal"
   ]
  },
  {
   "cell_type": "markdown",
   "metadata": {},
   "source": [
    "Specify your team's specific project timeline. An example timeline has been provided. Changes the dates, times, names, and details to fit your group's plan.\n",
    "\n",
    "If you think you will need any special resources or training outside what we have covered in COGS 108 to solve your problem, then your proposal should state these clearly. For example, if you have selected a problem that involves implementing multiple neural networks, please state this so we can make sure you know what you’re doing and so we can point you to resources you will need to implement your project. Note that you are not required to use outside methods.\n",
    "\n",
    "\n",
    "\n",
    "| Meeting Date  | Meeting Time| Completed Before Meeting  | Discuss at Meeting |\n",
    "|---|---|---|---|\n",
    "| 1/20  |  4 PM | Read & Think about COGS 108 expectations; brainstorm topics/questions  | Determine best form of communication; Discuss and decide on final project topic; discuss hypothesis; begin background research | \n",
    "| 1/27  |  4 PM |  Do background research on topic | Discuss ideal dataset(s) and ethics; draft project proposal | \n",
    "| 2/9  | 8 PM  | Edit, finalize, and submit proposal; Search for datasets  | Discuss Wrangling and possible analytical approaches; Assign group members to lead each specific part   |\n",
    "| 2/10  | 4 PM  | Import & Wrangle Data (Nghi/Hartej); EDA (Angela/Andrew, Derek) | Review/Edit wrangling/EDA; Discuss Analysis Plan   |\n",
    "| 2/24  | 4 PM  | Finalize wrangling/EDA (Nghi/Hartej); Begin Analysis (Angela/Derek/Andrew) | Discuss/edit Analysis; Complete project check-in |\n",
    "| 3/10  | 4 PM  | Complete analysis; Draft results/conclusion/discussion (Everyone)| Discuss/edit full project |\n",
    "| 3/17  | 4 PM  | NA | Turn in Final Project & Group Project Surveys |"
   ]
  },
  {
   "cell_type": "markdown",
   "metadata": {},
   "source": []
  }
 ],
 "metadata": {
  "kernelspec": {
   "display_name": "Python 3 (ipykernel)",
   "language": "python",
   "name": "python3"
  },
  "language_info": {
   "codemirror_mode": {
    "name": "ipython",
    "version": 3
   },
   "file_extension": ".py",
   "mimetype": "text/x-python",
   "name": "python",
   "nbconvert_exporter": "python",
   "pygments_lexer": "ipython3",
   "version": "3.9.7"
  }
 },
 "nbformat": 4,
 "nbformat_minor": 2
}
